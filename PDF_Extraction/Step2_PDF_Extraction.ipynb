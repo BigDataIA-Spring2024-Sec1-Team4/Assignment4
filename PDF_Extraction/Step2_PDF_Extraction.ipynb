{
 "cells": [
  {
   "cell_type": "code",
   "execution_count": null,
   "id": "eb2b7292",
   "metadata": {
    "execution": {
     "iopub.execute_input": "2024-02-16T04:33:30.755647Z",
     "iopub.status.busy": "2024-02-16T04:33:30.755209Z",
     "iopub.status.idle": "2024-02-16T04:33:39.938160Z",
     "shell.execute_reply": "2024-02-16T04:33:39.936815Z"
    }
   },
   "outputs": [],
   "source": [
    "%pip install -r requirements.txt"
   ]
  },
  {
   "cell_type": "code",
   "execution_count": null,
   "id": "414c3a0f",
   "metadata": {
    "execution": {
     "iopub.execute_input": "2024-02-16T04:33:39.945610Z",
     "iopub.status.busy": "2024-02-16T04:33:39.945305Z",
     "iopub.status.idle": "2024-02-16T04:33:39.999526Z",
     "shell.execute_reply": "2024-02-16T04:33:39.998984Z"
    }
   },
   "outputs": [],
   "source": [
    "import os\n",
    "import PyPDF2\n",
    "import re\n",
    "from pathlib import Path\n",
    "import xml.etree.ElementTree as ET\n",
    "import re\n",
    "import os\n",
    "from dotenv import load_dotenv"
   ]
  },
  {
   "cell_type": "code",
   "execution_count": null,
   "id": "d1309d45",
   "metadata": {},
   "outputs": [],
   "source": [
    "# Load environment variables from .env file\n",
    "def load_env():\n",
    "    load_dotenv()\n",
    "    #grobid_url = os.getenv(\"GROBID_URL\")\n",
    "    pdf_directory = os.getenv('PDF_DIR_PATH') # Store the downloaded PDF files from S3\n",
    "    output_dir = os.getenv(\"OUTPUT_DIR_PATH\") # Store the extracted txt files\n",
    "    AWS_ACCESS_KEY_ID = os.getenv('AWS_ACCESS_KEY_ID')\n",
    "    AWS_SECRET_ACCESS_KEY = os.getenv('AWS_SECRET_ACCESS_KEY')\n",
    "    S3_BUCKET_NAME = os.getenv('S3_BUCKET_NAME')\n",
    "    \n",
    "    \n",
    "    return pdf_directory, output_dir, S3_BUCKET_NAME, AWS_ACCESS_KEY_ID, AWS_SECRET_ACCESS_KEY\n",
    "\n",
    "pdf_directory, output_dir, S3_BUCKET_NAME, AWS_ACCESS_KEY_ID, AWS_SECRET_ACCESS_KEY = load_env()\n",
    "\n",
    "\n",
    "print(pdf_directory)"
   ]
  },
  {
   "cell_type": "markdown",
   "id": "42919b69",
   "metadata": {},
   "source": [
    "Downloading PDFs from S3 to local"
   ]
  },
  {
   "cell_type": "code",
   "execution_count": null,
   "id": "98bcf04d",
   "metadata": {},
   "outputs": [],
   "source": [
    "import boto3\n",
    "\n",
    "\n",
    "def download_files_from_s3():\n",
    "    s3 = boto3.client('s3', aws_access_key_id=AWS_ACCESS_KEY_ID, aws_secret_access_key=AWS_SECRET_ACCESS_KEY)\n",
    "\n",
    "    # List objects in the specified S3 folder\n",
    "    response = s3.list_objects_v2(Bucket=S3_BUCKET_NAME)\n",
    "\n",
    "    if not os.path.exists(pdf_directory):\n",
    "        os.makedirs(pdf_directory)\n",
    "\n",
    "\n",
    "    # Download each file to the local directory\n",
    "    #for obj in response.get('Contents')[1:]:\n",
    "    for obj in response.get('Contents', []):\n",
    "        key = obj['Key']\n",
    "        print(key)\n",
    "        local_file_path = os.path.join(pdf_directory, os.path.basename(key))\n",
    "        print(local_file_path)\n",
    "\n",
    "        try:\n",
    "            s3.download_file(S3_BUCKET_NAME, key, local_file_path)\n",
    "            print(f\"Downloaded: {key} to {local_file_path}\")\n",
    "        except Exception as e:\n",
    "            print(f\"Failed to download {key}: {e}\")\n",
    "            \n",
    "\n",
    "try:\n",
    "    download_files_from_s3()\n",
    "except Exception as e:\n",
    "    print(f\"An error occurred: {e}\")"
   ]
  },
  {
   "cell_type": "code",
   "execution_count": null,
   "id": "c019085a",
   "metadata": {
    "execution": {
     "iopub.execute_input": "2024-02-16T04:33:40.002656Z",
     "iopub.status.busy": "2024-02-16T04:33:40.002474Z",
     "iopub.status.idle": "2024-02-16T04:33:40.009024Z",
     "shell.execute_reply": "2024-02-16T04:33:40.008535Z"
    }
   },
   "outputs": [],
   "source": [
    "## Extract text using PyPDF2\n",
    "\n",
    "\n",
    "def extract_text_pypdf(pdf_path, output_folder):\n",
    "    if not os.path.exists(output_folder):\n",
    "        os.makedirs(output_folder)\n",
    "    text = \"\"\n",
    "    with open(pdf_path, 'rb') as file:\n",
    "        reader = PyPDF2.PdfReader(file)\n",
    "        for page_num in range(len(reader.pages)):\n",
    "            text += reader.pages[page_num].extract_text()\n",
    "    output_filename = os.path.join(output_folder, f'PyPDF_RR_{os.path.basename(pdf_path)[:-4]}_combined.txt')\n",
    "    with open(output_filename, 'w') as file:\n",
    "        file.write(text)\n",
    "    print(f\"Text extracted from {pdf_path} using PyPDF2 and saved to {output_filename}\")\n"
   ]
  },
  {
   "cell_type": "code",
   "execution_count": null,
   "id": "c618cfbd",
   "metadata": {
    "execution": {
     "iopub.execute_input": "2024-02-16T04:33:40.011838Z",
     "iopub.status.busy": "2024-02-16T04:33:40.011652Z",
     "iopub.status.idle": "2024-02-16T04:33:40.020518Z",
     "shell.execute_reply": "2024-02-16T04:33:40.020074Z"
    }
   },
   "outputs": [],
   "source": [
    "pwd"
   ]
  },
  {
   "cell_type": "code",
   "execution_count": null,
   "id": "775b8d18",
   "metadata": {
    "execution": {
     "iopub.execute_input": "2024-02-16T04:33:40.024459Z",
     "iopub.status.busy": "2024-02-16T04:33:40.024268Z",
     "iopub.status.idle": "2024-02-16T04:33:40.029523Z",
     "shell.execute_reply": "2024-02-16T04:33:40.029106Z"
    }
   },
   "outputs": [],
   "source": [
    "cd grobid_client_python"
   ]
  },
  {
   "cell_type": "code",
   "execution_count": null,
   "id": "090443a9",
   "metadata": {
    "execution": {
     "iopub.execute_input": "2024-02-16T04:33:40.032227Z",
     "iopub.status.busy": "2024-02-16T04:33:40.032048Z",
     "iopub.status.idle": "2024-02-16T04:33:40.035423Z",
     "shell.execute_reply": "2024-02-16T04:33:40.034946Z"
    }
   },
   "outputs": [],
   "source": [
    "## Use Grobid to convert PDF to XML\n",
    "\n",
    "import subprocess\n",
    "\n",
    "def convert_to_xml_with_grobid(input_folder, output_folder):\n",
    "    subprocess.run(['python3', '-m', 'grobid_client.grobid_client', '--input', input_folder, '--output', output_folder, 'processFulltextDocument'])\n",
    "    print(f\"PDF files in {input_folder} converted to XML and saved to {output_folder}\")\n"
   ]
  },
  {
   "cell_type": "code",
   "execution_count": null,
   "id": "473635f5",
   "metadata": {
    "execution": {
     "iopub.execute_input": "2024-02-16T04:33:40.037952Z",
     "iopub.status.busy": "2024-02-16T04:33:40.037811Z",
     "iopub.status.idle": "2024-02-16T04:33:40.043649Z",
     "shell.execute_reply": "2024-02-16T04:33:40.043195Z"
    }
   },
   "outputs": [],
   "source": [
    "## Convert XML to text using Grobid\n",
    "\n",
    "    \n",
    "def extract_text_from_element(element):\n",
    "    text = ''\n",
    "    if element.text:\n",
    "        text += element.text.strip() + ' '\n",
    "    for child in element:\n",
    "        text += extract_text_from_element(child)\n",
    "    return text\n",
    "\n",
    "def convert_xml_to_txt(xml_folder, txt_folder):\n",
    "    if not os.path.exists(txt_folder):\n",
    "        os.makedirs(txt_folder)  # Create the directory if it doesn't exist\n",
    "    \n",
    "    for xml_file in os.listdir(xml_folder):\n",
    "        if xml_file.endswith('.xml'):\n",
    "            xml_path = os.path.join(xml_folder, xml_file)\n",
    "            tree = ET.parse(xml_path)\n",
    "            root = tree.getroot()\n",
    "            \n",
    "            txt_filename = f\"Grobid_RR_{xml_file[:-4]}_combined.txt\"\n",
    "            txt_path = os.path.join(txt_folder, txt_filename)\n",
    "            \n",
    "            with open(txt_path, 'w') as txt_file:\n",
    "                text = extract_text_from_element(root)\n",
    "                txt_file.write(text)\n",
    "            print(f\"XML file {xml_file} converted to TXT and saved to {txt_path}\")\n"
   ]
  },
  {
   "cell_type": "code",
   "execution_count": null,
   "id": "2a048427",
   "metadata": {
    "execution": {
     "iopub.execute_input": "2024-02-16T04:33:40.046310Z",
     "iopub.status.busy": "2024-02-16T04:33:40.046131Z",
     "iopub.status.idle": "2024-02-16T04:33:40.049644Z",
     "shell.execute_reply": "2024-02-16T04:33:40.049207Z"
    }
   },
   "outputs": [],
   "source": [
    "pwd"
   ]
  },
  {
   "cell_type": "code",
   "execution_count": null,
   "id": "3c1e79b4",
   "metadata": {
    "execution": {
     "iopub.execute_input": "2024-02-16T04:33:40.052262Z",
     "iopub.status.busy": "2024-02-16T04:33:40.052133Z",
     "iopub.status.idle": "2024-02-16T04:33:41.655792Z",
     "shell.execute_reply": "2024-02-16T04:33:41.655258Z"
    }
   },
   "outputs": [],
   "source": [
    "## Run the extraction process\n",
    "\n",
    "input_folder = '../Input'\n",
    "output_folder_pypdf = '../PyPDF/'\n",
    "xml_folder = '../GROBID/xml'\n",
    "txt_folder = '../GROBID/txt'\n",
    "\n",
    "for filename in os.listdir():\n",
    "    if filename.endswith('.pdf'):\n",
    "        extract_text_pypdf(os.path.join(input_folder, filename), output_folder_pypdf)\n",
    "\n"
   ]
  },
  {
   "cell_type": "code",
   "execution_count": null,
   "id": "d472d40f",
   "metadata": {
    "execution": {
     "iopub.execute_input": "2024-02-16T04:33:41.658782Z",
     "iopub.status.busy": "2024-02-16T04:33:41.658580Z",
     "iopub.status.idle": "2024-02-16T04:33:42.143460Z",
     "shell.execute_reply": "2024-02-16T04:33:42.142776Z"
    }
   },
   "outputs": [],
   "source": [
    "convert_to_xml_with_grobid(input_folder, xml_folder)\n",
    "convert_xml_to_txt(xml_folder, txt_folder)\n"
   ]
  }
 ],
 "metadata": {
  "kernelspec": {
   "display_name": "Python 3 (ipykernel)",
   "language": "python",
   "name": "python3"
  },
  "language_info": {
   "codemirror_mode": {
    "name": "ipython",
    "version": 3
   },
   "file_extension": ".py",
   "mimetype": "text/x-python",
   "name": "python",
   "nbconvert_exporter": "python",
   "pygments_lexer": "ipython3",
   "version": "3.11.1"
  }
 },
 "nbformat": 4,
 "nbformat_minor": 5
}
