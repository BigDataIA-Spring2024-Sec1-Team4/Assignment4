{
 "cells": [
  {
   "cell_type": "code",
   "execution_count": 1,
   "id": "eb2b7292",
   "metadata": {
    "execution": {
     "iopub.execute_input": "2024-02-16T04:33:30.755647Z",
     "iopub.status.busy": "2024-02-16T04:33:30.755209Z",
     "iopub.status.idle": "2024-02-16T04:33:39.938160Z",
     "shell.execute_reply": "2024-02-16T04:33:39.936815Z"
    }
   },
   "outputs": [
    {
     "name": "stdout",
     "output_type": "stream",
     "text": [
      "Requirement already satisfied: PyPDF2 in /Users/rutu/Downloads/NEU/SEM3/BigData/Assignment4/.venv/lib/python3.11/site-packages (from -r requirements.txt (line 1)) (3.0.1)\n",
      "Requirement already satisfied: nbconvert in /Users/rutu/Downloads/NEU/SEM3/BigData/Assignment4/.venv/lib/python3.11/site-packages (from -r requirements.txt (line 2)) (7.16.3)\n",
      "Requirement already satisfied: ipykernel in /Users/rutu/Downloads/NEU/SEM3/BigData/Assignment4/.venv/lib/python3.11/site-packages (from -r requirements.txt (line 3)) (6.29.3)\n",
      "Requirement already satisfied: beautifulsoup4 in /Users/rutu/Downloads/NEU/SEM3/BigData/Assignment4/.venv/lib/python3.11/site-packages (from nbconvert->-r requirements.txt (line 2)) (4.12.3)\n",
      "Requirement already satisfied: bleach!=5.0.0 in /Users/rutu/Downloads/NEU/SEM3/BigData/Assignment4/.venv/lib/python3.11/site-packages (from nbconvert->-r requirements.txt (line 2)) (6.1.0)\n",
      "Requirement already satisfied: defusedxml in /Users/rutu/Downloads/NEU/SEM3/BigData/Assignment4/.venv/lib/python3.11/site-packages (from nbconvert->-r requirements.txt (line 2)) (0.7.1)\n",
      "Requirement already satisfied: jinja2>=3.0 in /Users/rutu/Downloads/NEU/SEM3/BigData/Assignment4/.venv/lib/python3.11/site-packages (from nbconvert->-r requirements.txt (line 2)) (3.1.3)\n",
      "Requirement already satisfied: jupyter-core>=4.7 in /Users/rutu/Downloads/NEU/SEM3/BigData/Assignment4/.venv/lib/python3.11/site-packages (from nbconvert->-r requirements.txt (line 2)) (5.7.2)\n",
      "Requirement already satisfied: jupyterlab-pygments in /Users/rutu/Downloads/NEU/SEM3/BigData/Assignment4/.venv/lib/python3.11/site-packages (from nbconvert->-r requirements.txt (line 2)) (0.3.0)\n",
      "Requirement already satisfied: markupsafe>=2.0 in /Users/rutu/Downloads/NEU/SEM3/BigData/Assignment4/.venv/lib/python3.11/site-packages (from nbconvert->-r requirements.txt (line 2)) (2.1.5)\n",
      "Requirement already satisfied: mistune<4,>=2.0.3 in /Users/rutu/Downloads/NEU/SEM3/BigData/Assignment4/.venv/lib/python3.11/site-packages (from nbconvert->-r requirements.txt (line 2)) (3.0.2)\n",
      "Requirement already satisfied: nbclient>=0.5.0 in /Users/rutu/Downloads/NEU/SEM3/BigData/Assignment4/.venv/lib/python3.11/site-packages (from nbconvert->-r requirements.txt (line 2)) (0.10.0)\n",
      "Requirement already satisfied: nbformat>=5.7 in /Users/rutu/Downloads/NEU/SEM3/BigData/Assignment4/.venv/lib/python3.11/site-packages (from nbconvert->-r requirements.txt (line 2)) (5.10.3)\n",
      "Requirement already satisfied: packaging in /Users/rutu/Downloads/NEU/SEM3/BigData/Assignment4/.venv/lib/python3.11/site-packages (from nbconvert->-r requirements.txt (line 2)) (23.2)\n",
      "Requirement already satisfied: pandocfilters>=1.4.1 in /Users/rutu/Downloads/NEU/SEM3/BigData/Assignment4/.venv/lib/python3.11/site-packages (from nbconvert->-r requirements.txt (line 2)) (1.5.1)\n",
      "Requirement already satisfied: pygments>=2.4.1 in /Users/rutu/Downloads/NEU/SEM3/BigData/Assignment4/.venv/lib/python3.11/site-packages (from nbconvert->-r requirements.txt (line 2)) (2.17.2)\n",
      "Requirement already satisfied: tinycss2 in /Users/rutu/Downloads/NEU/SEM3/BigData/Assignment4/.venv/lib/python3.11/site-packages (from nbconvert->-r requirements.txt (line 2)) (1.2.1)\n",
      "Requirement already satisfied: traitlets>=5.1 in /Users/rutu/Downloads/NEU/SEM3/BigData/Assignment4/.venv/lib/python3.11/site-packages (from nbconvert->-r requirements.txt (line 2)) (5.14.2)\n",
      "Requirement already satisfied: appnope in /Users/rutu/Downloads/NEU/SEM3/BigData/Assignment4/.venv/lib/python3.11/site-packages (from ipykernel->-r requirements.txt (line 3)) (0.1.4)\n",
      "Requirement already satisfied: comm>=0.1.1 in /Users/rutu/Downloads/NEU/SEM3/BigData/Assignment4/.venv/lib/python3.11/site-packages (from ipykernel->-r requirements.txt (line 3)) (0.2.2)\n",
      "Requirement already satisfied: debugpy>=1.6.5 in /Users/rutu/Downloads/NEU/SEM3/BigData/Assignment4/.venv/lib/python3.11/site-packages (from ipykernel->-r requirements.txt (line 3)) (1.8.1)\n",
      "Requirement already satisfied: ipython>=7.23.1 in /Users/rutu/Downloads/NEU/SEM3/BigData/Assignment4/.venv/lib/python3.11/site-packages (from ipykernel->-r requirements.txt (line 3)) (8.22.2)\n",
      "Requirement already satisfied: jupyter-client>=6.1.12 in /Users/rutu/Downloads/NEU/SEM3/BigData/Assignment4/.venv/lib/python3.11/site-packages (from ipykernel->-r requirements.txt (line 3)) (8.6.1)\n",
      "Requirement already satisfied: matplotlib-inline>=0.1 in /Users/rutu/Downloads/NEU/SEM3/BigData/Assignment4/.venv/lib/python3.11/site-packages (from ipykernel->-r requirements.txt (line 3)) (0.1.6)\n",
      "Requirement already satisfied: nest-asyncio in /Users/rutu/Downloads/NEU/SEM3/BigData/Assignment4/.venv/lib/python3.11/site-packages (from ipykernel->-r requirements.txt (line 3)) (1.6.0)\n",
      "Requirement already satisfied: psutil in /Users/rutu/Downloads/NEU/SEM3/BigData/Assignment4/.venv/lib/python3.11/site-packages (from ipykernel->-r requirements.txt (line 3)) (5.9.8)\n",
      "Requirement already satisfied: pyzmq>=24 in /Users/rutu/Downloads/NEU/SEM3/BigData/Assignment4/.venv/lib/python3.11/site-packages (from ipykernel->-r requirements.txt (line 3)) (25.1.2)\n",
      "Requirement already satisfied: tornado>=6.1 in /Users/rutu/Downloads/NEU/SEM3/BigData/Assignment4/.venv/lib/python3.11/site-packages (from ipykernel->-r requirements.txt (line 3)) (6.4)\n",
      "Requirement already satisfied: six>=1.9.0 in /Users/rutu/Downloads/NEU/SEM3/BigData/Assignment4/.venv/lib/python3.11/site-packages (from bleach!=5.0.0->nbconvert->-r requirements.txt (line 2)) (1.16.0)\n",
      "Requirement already satisfied: webencodings in /Users/rutu/Downloads/NEU/SEM3/BigData/Assignment4/.venv/lib/python3.11/site-packages (from bleach!=5.0.0->nbconvert->-r requirements.txt (line 2)) (0.5.1)\n",
      "Requirement already satisfied: decorator in /Users/rutu/Downloads/NEU/SEM3/BigData/Assignment4/.venv/lib/python3.11/site-packages (from ipython>=7.23.1->ipykernel->-r requirements.txt (line 3)) (5.1.1)\n",
      "Requirement already satisfied: jedi>=0.16 in /Users/rutu/Downloads/NEU/SEM3/BigData/Assignment4/.venv/lib/python3.11/site-packages (from ipython>=7.23.1->ipykernel->-r requirements.txt (line 3)) (0.19.1)\n",
      "Requirement already satisfied: prompt-toolkit<3.1.0,>=3.0.41 in /Users/rutu/Downloads/NEU/SEM3/BigData/Assignment4/.venv/lib/python3.11/site-packages (from ipython>=7.23.1->ipykernel->-r requirements.txt (line 3)) (3.0.43)\n",
      "Requirement already satisfied: stack-data in /Users/rutu/Downloads/NEU/SEM3/BigData/Assignment4/.venv/lib/python3.11/site-packages (from ipython>=7.23.1->ipykernel->-r requirements.txt (line 3)) (0.6.3)\n",
      "Requirement already satisfied: pexpect>4.3 in /Users/rutu/Downloads/NEU/SEM3/BigData/Assignment4/.venv/lib/python3.11/site-packages (from ipython>=7.23.1->ipykernel->-r requirements.txt (line 3)) (4.9.0)\n",
      "Requirement already satisfied: python-dateutil>=2.8.2 in /Users/rutu/Downloads/NEU/SEM3/BigData/Assignment4/.venv/lib/python3.11/site-packages (from jupyter-client>=6.1.12->ipykernel->-r requirements.txt (line 3)) (2.9.0.post0)\n",
      "Requirement already satisfied: platformdirs>=2.5 in /Users/rutu/Downloads/NEU/SEM3/BigData/Assignment4/.venv/lib/python3.11/site-packages (from jupyter-core>=4.7->nbconvert->-r requirements.txt (line 2)) (3.11.0)\n",
      "Requirement already satisfied: fastjsonschema in /Users/rutu/Downloads/NEU/SEM3/BigData/Assignment4/.venv/lib/python3.11/site-packages (from nbformat>=5.7->nbconvert->-r requirements.txt (line 2)) (2.19.1)\n",
      "Requirement already satisfied: jsonschema>=2.6 in /Users/rutu/Downloads/NEU/SEM3/BigData/Assignment4/.venv/lib/python3.11/site-packages (from nbformat>=5.7->nbconvert->-r requirements.txt (line 2)) (4.21.1)\n",
      "Requirement already satisfied: soupsieve>1.2 in /Users/rutu/Downloads/NEU/SEM3/BigData/Assignment4/.venv/lib/python3.11/site-packages (from beautifulsoup4->nbconvert->-r requirements.txt (line 2)) (2.5)\n",
      "Requirement already satisfied: parso<0.9.0,>=0.8.3 in /Users/rutu/Downloads/NEU/SEM3/BigData/Assignment4/.venv/lib/python3.11/site-packages (from jedi>=0.16->ipython>=7.23.1->ipykernel->-r requirements.txt (line 3)) (0.8.3)\n",
      "Requirement already satisfied: attrs>=22.2.0 in /Users/rutu/Downloads/NEU/SEM3/BigData/Assignment4/.venv/lib/python3.11/site-packages (from jsonschema>=2.6->nbformat>=5.7->nbconvert->-r requirements.txt (line 2)) (23.2.0)\n",
      "Requirement already satisfied: jsonschema-specifications>=2023.03.6 in /Users/rutu/Downloads/NEU/SEM3/BigData/Assignment4/.venv/lib/python3.11/site-packages (from jsonschema>=2.6->nbformat>=5.7->nbconvert->-r requirements.txt (line 2)) (2023.12.1)\n",
      "Requirement already satisfied: referencing>=0.28.4 in /Users/rutu/Downloads/NEU/SEM3/BigData/Assignment4/.venv/lib/python3.11/site-packages (from jsonschema>=2.6->nbformat>=5.7->nbconvert->-r requirements.txt (line 2)) (0.34.0)\n",
      "Requirement already satisfied: rpds-py>=0.7.1 in /Users/rutu/Downloads/NEU/SEM3/BigData/Assignment4/.venv/lib/python3.11/site-packages (from jsonschema>=2.6->nbformat>=5.7->nbconvert->-r requirements.txt (line 2)) (0.18.0)\n",
      "Requirement already satisfied: ptyprocess>=0.5 in /Users/rutu/Downloads/NEU/SEM3/BigData/Assignment4/.venv/lib/python3.11/site-packages (from pexpect>4.3->ipython>=7.23.1->ipykernel->-r requirements.txt (line 3)) (0.7.0)\n",
      "Requirement already satisfied: wcwidth in /Users/rutu/Downloads/NEU/SEM3/BigData/Assignment4/.venv/lib/python3.11/site-packages (from prompt-toolkit<3.1.0,>=3.0.41->ipython>=7.23.1->ipykernel->-r requirements.txt (line 3)) (0.2.13)\n",
      "Requirement already satisfied: executing>=1.2.0 in /Users/rutu/Downloads/NEU/SEM3/BigData/Assignment4/.venv/lib/python3.11/site-packages (from stack-data->ipython>=7.23.1->ipykernel->-r requirements.txt (line 3)) (2.0.1)\n",
      "Requirement already satisfied: asttokens>=2.1.0 in /Users/rutu/Downloads/NEU/SEM3/BigData/Assignment4/.venv/lib/python3.11/site-packages (from stack-data->ipython>=7.23.1->ipykernel->-r requirements.txt (line 3)) (2.4.1)\n",
      "Requirement already satisfied: pure-eval in /Users/rutu/Downloads/NEU/SEM3/BigData/Assignment4/.venv/lib/python3.11/site-packages (from stack-data->ipython>=7.23.1->ipykernel->-r requirements.txt (line 3)) (0.2.2)\n",
      "Note: you may need to restart the kernel to use updated packages.\n"
     ]
    }
   ],
   "source": [
    "%pip install -r requirements.txt"
   ]
  },
  {
   "cell_type": "code",
   "execution_count": 2,
   "id": "414c3a0f",
   "metadata": {
    "execution": {
     "iopub.execute_input": "2024-02-16T04:33:39.945610Z",
     "iopub.status.busy": "2024-02-16T04:33:39.945305Z",
     "iopub.status.idle": "2024-02-16T04:33:39.999526Z",
     "shell.execute_reply": "2024-02-16T04:33:39.998984Z"
    }
   },
   "outputs": [],
   "source": [
    "import os\n",
    "import PyPDF2\n",
    "import re\n",
    "from pathlib import Path\n",
    "import xml.etree.ElementTree as ET\n",
    "import re"
   ]
  },
  {
   "cell_type": "code",
   "execution_count": 5,
   "id": "c019085a",
   "metadata": {
    "execution": {
     "iopub.execute_input": "2024-02-16T04:33:40.002656Z",
     "iopub.status.busy": "2024-02-16T04:33:40.002474Z",
     "iopub.status.idle": "2024-02-16T04:33:40.009024Z",
     "shell.execute_reply": "2024-02-16T04:33:40.008535Z"
    }
   },
   "outputs": [],
   "source": [
    "## Extract text using PyPDF2\n",
    "\n",
    "\n",
    "def extract_text_pypdf(pdf_path, output_folder):\n",
    "    if not os.path.exists(output_folder):\n",
    "        os.makedirs(output_folder)\n",
    "    text = \"\"\n",
    "    with open(pdf_path, 'rb') as file:\n",
    "        reader = PyPDF2.PdfReader(file)\n",
    "        for page_num in range(len(reader.pages)):\n",
    "            text += reader.pages[page_num].extract_text()\n",
    "    output_filename = os.path.join(output_folder, f'PyPDF_RR_{os.path.basename(pdf_path)[:-4]}_combined.txt')\n",
    "    with open(output_filename, 'w') as file:\n",
    "        file.write(text)\n",
    "    print(f\"Text extracted from {pdf_path} using PyPDF2 and saved to {output_filename}\")\n"
   ]
  },
  {
   "cell_type": "code",
   "execution_count": 6,
   "id": "c618cfbd",
   "metadata": {
    "execution": {
     "iopub.execute_input": "2024-02-16T04:33:40.011838Z",
     "iopub.status.busy": "2024-02-16T04:33:40.011652Z",
     "iopub.status.idle": "2024-02-16T04:33:40.020518Z",
     "shell.execute_reply": "2024-02-16T04:33:40.020074Z"
    }
   },
   "outputs": [
    {
     "data": {
      "text/plain": [
       "'/Users/rutu/Downloads/NEU/SEM3/BigData/Assignment4/PDF_Extraction'"
      ]
     },
     "execution_count": 6,
     "metadata": {},
     "output_type": "execute_result"
    }
   ],
   "source": [
    "pwd"
   ]
  },
  {
   "cell_type": "code",
   "execution_count": 7,
   "id": "775b8d18",
   "metadata": {
    "execution": {
     "iopub.execute_input": "2024-02-16T04:33:40.024459Z",
     "iopub.status.busy": "2024-02-16T04:33:40.024268Z",
     "iopub.status.idle": "2024-02-16T04:33:40.029523Z",
     "shell.execute_reply": "2024-02-16T04:33:40.029106Z"
    }
   },
   "outputs": [
    {
     "name": "stdout",
     "output_type": "stream",
     "text": [
      "[Errno 2] No such file or directory: 'grobid_client_python'\n",
      "/Users/rutu/Downloads/NEU/SEM3/BigData/Assignment4/PDF_Extraction\n"
     ]
    },
    {
     "name": "stderr",
     "output_type": "stream",
     "text": [
      "/Users/rutu/Downloads/NEU/SEM3/BigData/Assignment4/.venv/lib/python3.11/site-packages/IPython/core/magics/osm.py:393: UserWarning: This is now an optional IPython functionality, using bookmarks requires you to install the `pickleshare` library.\n",
      "  bkms = self.shell.db.get('bookmarks', {})\n"
     ]
    }
   ],
   "source": [
    "cd grobid_client_python"
   ]
  },
  {
   "cell_type": "code",
   "execution_count": 8,
   "id": "090443a9",
   "metadata": {
    "execution": {
     "iopub.execute_input": "2024-02-16T04:33:40.032227Z",
     "iopub.status.busy": "2024-02-16T04:33:40.032048Z",
     "iopub.status.idle": "2024-02-16T04:33:40.035423Z",
     "shell.execute_reply": "2024-02-16T04:33:40.034946Z"
    }
   },
   "outputs": [],
   "source": [
    "## Use Grobid to convert PDF to XML\n",
    "\n",
    "import subprocess\n",
    "\n",
    "def convert_to_xml_with_grobid(input_folder, output_folder):\n",
    "    subprocess.run(['python3', '-m', 'grobid_client.grobid_client', '--input', input_folder, '--output', output_folder, 'processFulltextDocument'])\n",
    "    print(f\"PDF files in {input_folder} converted to XML and saved to {output_folder}\")\n"
   ]
  },
  {
   "cell_type": "code",
   "execution_count": 9,
   "id": "473635f5",
   "metadata": {
    "execution": {
     "iopub.execute_input": "2024-02-16T04:33:40.037952Z",
     "iopub.status.busy": "2024-02-16T04:33:40.037811Z",
     "iopub.status.idle": "2024-02-16T04:33:40.043649Z",
     "shell.execute_reply": "2024-02-16T04:33:40.043195Z"
    }
   },
   "outputs": [],
   "source": [
    "## Convert XML to text using Grobid\n",
    "\n",
    "    \n",
    "def extract_text_from_element(element):\n",
    "    text = ''\n",
    "    if element.text:\n",
    "        text += element.text.strip() + ' '\n",
    "    for child in element:\n",
    "        text += extract_text_from_element(child)\n",
    "    return text\n",
    "\n",
    "def convert_xml_to_txt(xml_folder, txt_folder):\n",
    "    if not os.path.exists(txt_folder):\n",
    "        os.makedirs(txt_folder)  # Create the directory if it doesn't exist\n",
    "    \n",
    "    for xml_file in os.listdir(xml_folder):\n",
    "        if xml_file.endswith('.xml'):\n",
    "            xml_path = os.path.join(xml_folder, xml_file)\n",
    "            tree = ET.parse(xml_path)\n",
    "            root = tree.getroot()\n",
    "            \n",
    "            txt_filename = f\"Grobid_RR_{xml_file[:-4]}_combined.txt\"\n",
    "            txt_path = os.path.join(txt_folder, txt_filename)\n",
    "            \n",
    "            with open(txt_path, 'w') as txt_file:\n",
    "                text = extract_text_from_element(root)\n",
    "                txt_file.write(text)\n",
    "            print(f\"XML file {xml_file} converted to TXT and saved to {txt_path}\")\n"
   ]
  },
  {
   "cell_type": "code",
   "execution_count": 10,
   "id": "2a048427",
   "metadata": {
    "execution": {
     "iopub.execute_input": "2024-02-16T04:33:40.046310Z",
     "iopub.status.busy": "2024-02-16T04:33:40.046131Z",
     "iopub.status.idle": "2024-02-16T04:33:40.049644Z",
     "shell.execute_reply": "2024-02-16T04:33:40.049207Z"
    }
   },
   "outputs": [
    {
     "data": {
      "text/plain": [
       "'/Users/rutu/Downloads/NEU/SEM3/BigData/Assignment4/PDF_Extraction'"
      ]
     },
     "execution_count": 10,
     "metadata": {},
     "output_type": "execute_result"
    }
   ],
   "source": [
    "pwd"
   ]
  },
  {
   "cell_type": "code",
   "execution_count": 11,
   "id": "3c1e79b4",
   "metadata": {
    "execution": {
     "iopub.execute_input": "2024-02-16T04:33:40.052262Z",
     "iopub.status.busy": "2024-02-16T04:33:40.052133Z",
     "iopub.status.idle": "2024-02-16T04:33:41.655792Z",
     "shell.execute_reply": "2024-02-16T04:33:41.655258Z"
    }
   },
   "outputs": [],
   "source": [
    "## Run the extraction process\n",
    "\n",
    "input_folder = '../pdf_from_s3'\n",
    "output_folder_pypdf = '../PyPDF/'\n",
    "xml_folder = '../GROBID/xml'\n",
    "txt_folder = '../GROBID/txt'\n",
    "\n",
    "for filename in os.listdir():\n",
    "    if filename.endswith('.pdf'):\n",
    "        extract_text_pypdf(os.path.join(input_folder, filename), output_folder_pypdf)\n",
    "\n"
   ]
  },
  {
   "cell_type": "code",
   "execution_count": 12,
   "id": "d472d40f",
   "metadata": {
    "execution": {
     "iopub.execute_input": "2024-02-16T04:33:41.658782Z",
     "iopub.status.busy": "2024-02-16T04:33:41.658580Z",
     "iopub.status.idle": "2024-02-16T04:33:42.143460Z",
     "shell.execute_reply": "2024-02-16T04:33:42.142776Z"
    }
   },
   "outputs": [
    {
     "name": "stderr",
     "output_type": "stream",
     "text": [
      "/Users/rutu/Downloads/NEU/SEM3/BigData/Assignment4/.venv/bin/python3: Error while finding module specification for 'grobid_client.grobid_client' (ModuleNotFoundError: No module named 'grobid_client')\n"
     ]
    },
    {
     "name": "stdout",
     "output_type": "stream",
     "text": [
      "PDF files in ../pdf_from_s3 converted to XML and saved to ../GROBID/xml\n"
     ]
    },
    {
     "ename": "FileNotFoundError",
     "evalue": "[Errno 2] No such file or directory: '../GROBID/xml'",
     "output_type": "error",
     "traceback": [
      "\u001b[0;31m---------------------------------------------------------------------------\u001b[0m",
      "\u001b[0;31mFileNotFoundError\u001b[0m                         Traceback (most recent call last)",
      "Cell \u001b[0;32mIn[12], line 2\u001b[0m\n\u001b[1;32m      1\u001b[0m convert_to_xml_with_grobid(input_folder, xml_folder)\n\u001b[0;32m----> 2\u001b[0m \u001b[43mconvert_xml_to_txt\u001b[49m\u001b[43m(\u001b[49m\u001b[43mxml_folder\u001b[49m\u001b[43m,\u001b[49m\u001b[43m \u001b[49m\u001b[43mtxt_folder\u001b[49m\u001b[43m)\u001b[49m\n",
      "Cell \u001b[0;32mIn[9], line 16\u001b[0m, in \u001b[0;36mconvert_xml_to_txt\u001b[0;34m(xml_folder, txt_folder)\u001b[0m\n\u001b[1;32m     13\u001b[0m \u001b[38;5;28;01mif\u001b[39;00m \u001b[38;5;129;01mnot\u001b[39;00m os\u001b[38;5;241m.\u001b[39mpath\u001b[38;5;241m.\u001b[39mexists(txt_folder):\n\u001b[1;32m     14\u001b[0m     os\u001b[38;5;241m.\u001b[39mmakedirs(txt_folder)  \u001b[38;5;66;03m# Create the directory if it doesn't exist\u001b[39;00m\n\u001b[0;32m---> 16\u001b[0m \u001b[38;5;28;01mfor\u001b[39;00m xml_file \u001b[38;5;129;01min\u001b[39;00m \u001b[43mos\u001b[49m\u001b[38;5;241;43m.\u001b[39;49m\u001b[43mlistdir\u001b[49m\u001b[43m(\u001b[49m\u001b[43mxml_folder\u001b[49m\u001b[43m)\u001b[49m:\n\u001b[1;32m     17\u001b[0m     \u001b[38;5;28;01mif\u001b[39;00m xml_file\u001b[38;5;241m.\u001b[39mendswith(\u001b[38;5;124m'\u001b[39m\u001b[38;5;124m.xml\u001b[39m\u001b[38;5;124m'\u001b[39m):\n\u001b[1;32m     18\u001b[0m         xml_path \u001b[38;5;241m=\u001b[39m os\u001b[38;5;241m.\u001b[39mpath\u001b[38;5;241m.\u001b[39mjoin(xml_folder, xml_file)\n",
      "\u001b[0;31mFileNotFoundError\u001b[0m: [Errno 2] No such file or directory: '../GROBID/xml'"
     ]
    }
   ],
   "source": [
    "convert_to_xml_with_grobid(input_folder, xml_folder)\n",
    "convert_xml_to_txt(xml_folder, txt_folder)\n"
   ]
  }
 ],
 "metadata": {
  "kernelspec": {
   "display_name": "Python 3 (ipykernel)",
   "language": "python",
   "name": "python3"
  },
  "language_info": {
   "codemirror_mode": {
    "name": "ipython",
    "version": 3
   },
   "file_extension": ".py",
   "mimetype": "text/x-python",
   "name": "python",
   "nbconvert_exporter": "python",
   "pygments_lexer": "ipython3",
   "version": "3.11.1"
  }
 },
 "nbformat": 4,
 "nbformat_minor": 5
}
